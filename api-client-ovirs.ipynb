{
 "cells": [
  {
   "cell_type": "markdown",
   "id": "vocal-secondary",
   "metadata": {},
   "source": [
    "# PDS federated API demo, Osiris-Rex OVIRS data visualization\n",
    "\n",
    "The purpose of this notebook is to demostrate how the PDS web API can be used to access the PDS data for a scientific use case. The documention of the PDS web API is available on https://nasa-pds.github.io/pds-api/\n",
    "\n",
    "WARNING: This notebook is a demo and not a real scientific use case. It might contain mistake in the way the data is used or displayed."
   ]
  },
  {
   "cell_type": "code",
   "execution_count": 188,
   "id": "fantastic-president",
   "metadata": {},
   "outputs": [],
   "source": [
    "from __future__ import print_function\n",
    "import matplotlib.pyplot as plt\n",
    "import matplotlib.ticker as ticker\n",
    "import numpy as np\n",
    "from astropy.io import fits"
   ]
  },
  {
   "cell_type": "markdown",
   "id": "formal-bishop",
   "metadata": {},
   "source": [
    "The PDS API is accessed using a python client library documented on https://nasa-pds.github.io/pds-api-client/"
   ]
  },
  {
   "cell_type": "code",
   "execution_count": 189,
   "id": "minimal-graduation",
   "metadata": {},
   "outputs": [],
   "source": [
    "import pds.api_client as pds_api"
   ]
  },
  {
   "cell_type": "markdown",
   "id": "improving-settle",
   "metadata": {},
   "source": [
    "## Use the PDS demo web API server "
   ]
  },
  {
   "cell_type": "markdown",
   "id": "dress-services",
   "metadata": {},
   "source": [
    "Connect to the demo server. See User Interface of the web API: http://pds-gamma.jpl.nasa.gov/api/swagger-ui.html\n"
   ]
  },
  {
   "cell_type": "code",
   "execution_count": 190,
   "id": "sunset-harrison",
   "metadata": {
    "tags": []
   },
   "outputs": [],
   "source": [
    "configuration = pds_api.Configuration()\n",
    "\n",
    "# demo server\n",
    "configuration.host = 'http://pds-gamma.jpl.nasa.gov/api/'\n",
    "\n",
    "# dev server\n",
    "# configuration.host = \"http://localhost:8080/\"\n",
    "\n",
    "api_client = pds_api.ApiClient(configuration)\n"
   ]
  },
  {
   "cell_type": "markdown",
   "id": "necessary-niagara",
   "metadata": {},
   "source": [
    "## Get the lidvid of your collection of interest\n",
    "\n",
    "Search for a collection of interest on https://pds.nasa.gov/datasearch/keyword-search/ (or https://pds.nasa.gov > Data Search > Keyword Search):\n",
    "- Search for \"osiris rex ovirs collection\" (https://pds.nasa.gov/datasearch/keyword-search/search.jsp?q=osiris+rex+ovirs+collection)\n",
    "- Click on the first collection on the results\n",
    "- Copy the lidvid\n"
   ]
  },
  {
   "cell_type": "markdown",
   "id": "boring-strategy",
   "metadata": {},
   "source": [
    "## Get the properties available for the observational products belonging to the selected collection\n",
    "\n",
    "Get the properties available for the product belonging to the collection of interest using CollectionsProductsApi.products_of_a_collection (see https://nasa-pds.github.io/pds-api-client/api/api_client.api.html#api_client.api.collections_products_api.CollectionsProductsApi)"
   ]
  },
  {
   "cell_type": "code",
   "execution_count": 200,
   "id": "crucial-thriller",
   "metadata": {},
   "outputs": [
    {
     "name": "stdout",
     "output_type": "stream",
     "text": [
      "The available properties for the selected products are ['orex:spatial.orex:bennu_radec_target', 'pds:Modification_Detail.pds:description', 'pds:Axis_Array.pds:axis_name', 'pds:Local_Internal_Reference.pds:local_reference_type', 'pds:File.pds:file_size', 'pds:Modification_Detail.pds:modification_date', 'orex:spatial.orex:sun_range', 'pds:Internal_Reference.pds:lidvid_reference', 'ops:Label_File_Info.ops:md5_checksum', 'orex:spatial.orex:emission_angle', 'vid', 'pds:Array_2D_Spectrum.pds:axes', 'pds:Observing_System_Component.pds:type', 'orex:spatial.orex:longitude', 'orex:spatial.orex:right_ascension', 'sp:Observation_Parameters.sp:resolution_limit_wavelength', 'sp:Observation_Parameters.sp:net_integration_time', 'orex:spatial.orex:bennu_dec', 'sp:Spectral_Characteristics.sp:spectral_bin_type', 'orex:spatial.orex:target_range', 'pds:Axis_Array.pds:sequence_number', 'ops:Data_File_Info.ops:md5_checksum', 'pds:Identification_Area.pds:title', 'sp:Observation_Parameters.sp:number_of_exposures', 'pds:Array_2D_Spectrum.pds:local_identifier', 'pds:Investigation_Area.pds:name', 'orex:spatial.orex:latitude', 'ops:Label_File_Info.ops:creation_date_time', 'orex:time.orex:mid_obs', 'sp:Field_of_View.sp:description', 'orex:time.orex:mid_obs_sclk', 'orex:spatial.orex:fov_fill_flag', 'geom:SPICE_Kernel_Identification.geom:kernel_type', 'ref_lid_product', 'orex:spatial.orex:phase_angle', 'orex:time.orex:expo_ms', 'pds:Internal_Reference.pds:comment', 'orex:spatial.orex:declination', 'pds:File.pds:creation_date_time', 'ops:Data_File_Info.ops:creation_date_time', 'pds:Observing_System_Component.pds:description', 'pds:Internal_Reference.pds:reference_type', 'pds:Array_2D.pds:local_identifier', 'pds:Primary_Result_Summary.pds:purpose', 'pds:Identification_Area.pds:information_model_version', 'orex:spatial.orex:semiminor_axis', 'disp:Display_Direction.disp:horizontal_display_axis', 'pds:Local_Internal_Reference.pds:local_identifier_reference', 'pds:Time_Coordinates.pds:start_date_time', 'sp:Spectral_Characteristics.sp:spectrum_format', 'orex:spatial.orex:semimajor_axis', 'pds:Observing_System.pds:name', 'orex:spatial.orex:fov_fill_factor', 'pds:Header.pds:object_length', 'orex:spatial.orex:bore_angle', 'lidvid', 'pds:Modification_Detail.pds:version_id', 'ops:Label_File_Info.ops:file_size', 'pds:Array_2D.pds:description', 'orex:spatial.orex:boresight_y', 'orex:spatial.orex:boresight_x', 'orex:spatial.orex:boresight_range', 'ops:Data_File_Info.ops:file_name', 'orex:spatial.orex:boresight_z', 'pds:Element_Array.pds:data_type', 'geom:Geometry_Orbiter.geom:geometry_reference_time_tdb', 'ref_lid_target', 'pds:Target_Identification.pds:alternate_designation', 'geom:Geometry_Orbiter.geom:geometry_reference_time_utc', 'lid', 'pds:Header.pds:parsing_standard_id', 'orex:spatial.orex:bore_flag', 'pds:Header.pds:offset', 'ref_lid_instrument', 'pds:File.pds:file_name', 'product_class', 'pds:Array_2D_Spectrum.pds:axis_index_order', 'orex:spatial.orex:bennu_radec_quality', 'orex:spatial.orex:bennu_ra', 'pds:Time_Coordinates.pds:stop_date_time', 'ref_lidvid_product', 'pds:Primary_Result_Summary.pds:processing_level', 'ops:Label_File_Info.ops:file_ref', 'orex:time.orex:exposure', 'pds:Element_Array.pds:unit', 'pds:Array_2D.pds:axis_index_order', 'ops:Data_File_Info.ops:mime_type', 'pds:Target_Identification.pds:name', 'sp:Bin_Description.sp:bin_profile_description', 'pds:Observing_System_Component.pds:name', 'pds:Array_2D.pds:offset', 'geom:SPICE_Kernel_Identification.geom:spice_kernel_file_name', 'pds:Identification_Area.pds:product_class', 'pds:Array_2D_Spectrum.pds:description', 'ref_lid_instrument_host', 'orex:time.orex:mid_obs_et', 'title', 'ops:Data_File_Info.ops:file_ref', '_package_id', 'disp:Display_Direction.disp:vertical_display_direction', 'pds:Identification_Area.pds:version_id', 'disp:Display_Direction.disp:vertical_display_axis', 'pds:Internal_Reference.pds:lid_reference', 'sp:Circular_FOV.sp:diameter_angle', 'pds:Identification_Area.pds:logical_identifier', 'ops:Data_File_Info.ops:file_size', 'pds:Axis_Array.pds:elements', 'geom:SPICE_Kernel_Identification.geom:kernel_provenance', 'pds:Array_2D_Spectrum.pds:offset', 'ref_lid_investigation', 'pds:Array_2D.pds:axes', 'ops:Label_File_Info.ops:blob', 'ops:Label_File_Info.ops:file_name', 'pds:Target_Identification.pds:type', 'disp:Display_Direction.disp:horizontal_display_direction', 'orex:spatial.orex:incidence_angle', 'orex:time.orex:utc', 'pds:Investigation_Area.pds:type']\n"
     ]
    }
   ],
   "source": [
    "lidvid = 'urn:nasa:pds:orex.ovirs:data_calibrated::10.0'\n",
    "#lidvid = 'urn:nasa:pds:izenberg_pdart14_meap:data_imagecube::1.0'\n",
    "collection_products_api = pds_api.CollectionsProductsApi(api_client)\n",
    "api_response = collection_products_api.products_of_a_collection(lidvid , start=0, limit=20, only_summary=True)\n",
    "available_properties = api_response.to_dict()['summary']['properties']\n",
    "print(f\"The available properties for the selected products are {available_properties}\")"
   ]
  },
  {
   "cell_type": "markdown",
   "id": "reported-lesson",
   "metadata": {},
   "source": [
    "Show available properties for this request"
   ]
  },
  {
   "cell_type": "markdown",
   "id": "thousand-series",
   "metadata": {},
   "source": [
    "## Request specific properties"
   ]
  },
  {
   "cell_type": "markdown",
   "id": "needed-hayes",
   "metadata": {},
   "source": [
    "Get the latitude, longitude and target_range of the observational products belonging to the collection"
   ]
  },
  {
   "cell_type": "code",
   "execution_count": 199,
   "id": "dying-attempt",
   "metadata": {},
   "outputs": [
    {
     "name": "stdout",
     "output_type": "stream",
     "text": [
      "The values of the selected properties are\n",
      "[{'orex:spatial.orex:latitude': '33.9691474546438',\n",
      "  'orex:spatial.orex:longitude': '28.7285783175071',\n",
      "  'orex:spatial.orex:target_range': '5.4958285341250095'},\n",
      " {'orex:spatial.orex:latitude': '36.2704782917451',\n",
      "  'orex:spatial.orex:longitude': '27.595891943496397',\n",
      "  'orex:spatial.orex:target_range': '5.49583876253778'},\n",
      " {'orex:spatial.orex:latitude': '38.65643214090589',\n",
      "  'orex:spatial.orex:longitude': '26.3631722002369',\n",
      "  'orex:spatial.orex:target_range': '5.49584898829721'},\n",
      " {'orex:spatial.orex:latitude': '40.9432991187486',\n",
      "  'orex:spatial.orex:longitude': '25.1984936944077',\n",
      "  'orex:spatial.orex:target_range': '5.49585920010901'},\n",
      " {'orex:spatial.orex:latitude': '44.34101695570389',\n",
      "  'orex:spatial.orex:longitude': '22.836577311639797',\n",
      "  'orex:spatial.orex:target_range': '5.49587057637608'},\n",
      " {'orex:spatial.orex:latitude': '47.2851232451129',\n",
      "  'orex:spatial.orex:longitude': '20.598038608434898',\n",
      "  'orex:spatial.orex:target_range': '5.495880802661969'},\n",
      " {'orex:spatial.orex:latitude': '49.825816543787695',\n",
      "  'orex:spatial.orex:longitude': '18.6944125544559',\n",
      "  'orex:spatial.orex:target_range': '5.495891032314569'},\n",
      " {'orex:spatial.orex:latitude': '52.626538299557296',\n",
      "  'orex:spatial.orex:longitude': '16.1249556619154',\n",
      "  'orex:spatial.orex:target_range': '5.49590126087587'},\n",
      " {'orex:spatial.orex:latitude': '55.375129686514796',\n",
      "  'orex:spatial.orex:longitude': '13.2289974292497',\n",
      "  'orex:spatial.orex:target_range': '5.4959114863273'},\n",
      " {'orex:spatial.orex:latitude': '57.9627131251993',\n",
      "  'orex:spatial.orex:longitude': '10.147142395704899',\n",
      "  'orex:spatial.orex:target_range': '5.49592171960358'},\n",
      " {'orex:spatial.orex:latitude': '60.2823979052638',\n",
      "  'orex:spatial.orex:longitude': '7.27178781011318',\n",
      "  'orex:spatial.orex:target_range': '5.49593194710221'}]\n"
     ]
    }
   ],
   "source": [
    "properties_of_interest = ['orex:spatial.orex:latitude', 'orex:spatial.orex:longitude', 'orex:spatial.orex:target_range']\n",
    "api_response = collection_products_api.products_of_a_collection('urn:nasa:pds:orex.ovirs:data_calibrated::10.0' , start=0, limit=20, fields=properties_of_interest)\n",
    "products_data_dicts = api_response.to_dict()['data']\n",
    "property_values = [product['properties'] for product in products_data_dicts]\n",
    "print(f\"The values of the selected properties are\")\n",
    "pprint(property_values)"
   ]
  },
  {
   "cell_type": "code",
   "execution_count": 201,
   "id": "abroad-wednesday",
   "metadata": {},
   "outputs": [
    {
     "name": "stdout",
     "output_type": "stream",
     "text": [
      "The target_range values for the selected products are [28.7285783175071, 27.595891943496397, 26.3631722002369, 25.1984936944077, 22.836577311639797, 20.598038608434898, 18.6944125544559, 16.1249556619154, 13.2289974292497, 10.147142395704899, 7.27178781011318]\n"
     ]
    }
   ],
   "source": [
    "# TODO return values as float from the API\n",
    "lat = [float(product['properties']['orex:spatial.orex:latitude']) for product in products_data_dicts]\n",
    "lon = [float(product['properties']['orex:spatial.orex:longitude']) for product in products_data_dicts]\n",
    "target_range = [float(product['properties']['orex:spatial.orex:longitude']) for product in products_data_dicts]\n",
    "print(f'The target_range values for the selected products are {target_range}')"
   ]
  },
  {
   "cell_type": "code",
   "execution_count": 202,
   "id": "subtle-light",
   "metadata": {},
   "outputs": [
    {
     "data": {
      "image/png": "[encoded data removed]",
      "text/plain": [
       "<Figure size 432x288 with 2 Axes>"
      ]
     },
     "metadata": {
      "needs_background": "light"
     },
     "output_type": "display_data"
    }
   ],
   "source": [
    "fig, ax = plt.subplots()\n",
    "\n",
    "ax.set_xlabel('longitude')\n",
    "ax.set_ylabel('latitude')\n",
    "\n",
    "im = ax.scatter(lon, lat, c=target_range)\n",
    "\n",
    "cbar = fig.colorbar(im, ax=ax)\n",
    "cbar.set_label('target range');\n"
   ]
  },
  {
   "cell_type": "markdown",
   "id": "objective-enterprise",
   "metadata": {},
   "source": [
    "## Get the lidvids of the selected products"
   ]
  },
  {
   "cell_type": "code",
   "execution_count": 203,
   "id": "buried-recall",
   "metadata": {},
   "outputs": [
    {
     "name": "stdout",
     "output_type": "stream",
     "text": [
      "The lidvids of the selected products are ['urn:nasa:pds:orex.ovirs:data_calibrated:20190511t045550s713_ovr_scil2.fits::1.0', 'urn:nasa:pds:orex.ovirs:data_calibrated:20190511t045551s613_ovr_scil2.fits::1.0', 'urn:nasa:pds:orex.ovirs:data_calibrated:20190511t045552s513_ovr_scil2.fits::1.0', 'urn:nasa:pds:orex.ovirs:data_calibrated:20190511t045553s413_ovr_scil2.fits::1.0', 'urn:nasa:pds:orex.ovirs:data_calibrated:20190511t045554s413_ovr_scil2.fits::1.0', 'urn:nasa:pds:orex.ovirs:data_calibrated:20190511t045555s313_ovr_scil2.fits::1.0', 'urn:nasa:pds:orex.ovirs:data_calibrated:20190511t045556s213_ovr_scil2.fits::1.0', 'urn:nasa:pds:orex.ovirs:data_calibrated:20190511t045557s113_ovr_scil2.fits::1.0', 'urn:nasa:pds:orex.ovirs:data_calibrated:20190511t045558s013_ovr_scil2.fits::1.0', 'urn:nasa:pds:orex.ovirs:data_calibrated:20190511t045558s913_ovr_scil2.fits::1.0', 'urn:nasa:pds:orex.ovirs:data_calibrated:20190511t045559s813_ovr_scil2.fits::1.0']\n"
     ]
    }
   ],
   "source": [
    "lidvids = [product['id'] for product in products_data_dicts]\n",
    "print(f'The lidvids of the selected products are {lidvids}')"
   ]
  },
  {
   "cell_type": "markdown",
   "id": "likely-memory",
   "metadata": {},
   "source": [
    "## Get the full product description"
   ]
  },
  {
   "cell_type": "code",
   "execution_count": 204,
   "id": "finnish-intro",
   "metadata": {},
   "outputs": [],
   "source": [
    "# TODO could replace with a single line with a /data end-point\n",
    "products_api = pds_api.ProductsApi(api_client)\n",
    "\n",
    "lidvid = lidvids[-1]\n",
    "\n",
    "product = products_api.products_by_lidvid(lidvid)"
   ]
  },
  {
   "cell_type": "markdown",
   "id": "compressed-password",
   "metadata": {},
   "source": [
    "## Extract the link to the data file"
   ]
  },
  {
   "cell_type": "code",
   "execution_count": 184,
   "id": "norman-mobile",
   "metadata": {},
   "outputs": [
    {
     "name": "stdout",
     "output_type": "stream",
     "text": [
      "product data file url: https://pds-gamma.jpl.nasa.gov/data/pds4/test-data/registry/orex.ovirs/data_calibrated/bennu_original_calibration/detailed_survey/20190511T045559S813_ovr_scil2.fits\n"
     ]
    }
   ],
   "source": [
    "data_file = product.to_dict()['properties']['ops:Data_File_Info.ops:file_ref']\n",
    "# TODO remove this line when data is rproperly e-ingested in the registry\n",
    "data_file = data_file.replace('/data/local/starbase/data/pds4/test-data/registry/', 'https://pds-gamma.jpl.nasa.gov/data/pds4/test-data/registry/')\n",
    "print(f'product data file url: {data_file}')"
   ]
  },
  {
   "cell_type": "markdown",
   "id": "surgical-comfort",
   "metadata": {},
   "source": [
    "## Plot the data (fits file)"
   ]
  },
  {
   "cell_type": "code",
   "execution_count": 179,
   "id": "upper-wesley",
   "metadata": {},
   "outputs": [
    {
     "name": "stdout",
     "output_type": "stream",
     "text": [
      "Filename: /Users/loubrieu/.astropy/cache/download/url/84c8bd6e4ceb6bfada913d43e5c429d8/contents\n",
      "No.    Name      Ver    Type      Cards   Dimensions   Format\n",
      "  0  PRIMARY       1 PrimaryHDU      45   (512, 20, 1)   float64   \n",
      "  1  QUALITY       1 ImageHDU         9   (512, 20, 1)   int32   \n",
      "  2  WAVELENGTH    1 ImageHDU         9   (512, 20, 3)   float64   \n",
      "  3  CAL_DARK      1 ImageHDU         9   (512, 20, 1)   float64   \n"
     ]
    },
    {
     "data": {
      "text/plain": [
       "<matplotlib.collections.QuadMesh at 0x7faf38c32c50>"
      ]
     },
     "execution_count": 179,
     "metadata": {},
     "output_type": "execute_result"
    },
    {
     "data": {
      "image/png": "[encoded data removed]",
      "text/plain": [
       "<Figure size 432x288 with 1 Axes>"
      ]
     },
     "metadata": {
      "needs_background": "light"
     },
     "output_type": "display_data"
    }
   ],
   "source": [
    "hdul = fits.open(data_file)\n",
    "hdul.info()\n",
    "img = hdul[0].data[0, :, :]\n",
    "fig, ax = plt.subplots()\n",
    "ax.pcolormesh(img)"
   ]
  }
 ],
 "metadata": {
  "kernelspec": {
   "display_name": "Python 3",
   "language": "python",
   "name": "python3"
  },
  "language_info": {
   "codemirror_mode": {
    "name": "ipython",
    "version": 3
   },
   "file_extension": ".py",
   "mimetype": "text/x-python",
   "name": "python",
   "nbconvert_exporter": "python",
   "pygments_lexer": "ipython3",
   "version": "3.7.7"
  }
 },
 "nbformat": 4,
 "nbformat_minor": 5
}
